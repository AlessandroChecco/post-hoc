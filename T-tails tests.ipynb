{
 "cells": [
  {
   "cell_type": "code",
   "execution_count": 95,
   "metadata": {
    "collapsed": false
   },
   "outputs": [],
   "source": [
    "import statsmodels.api as sm\n",
    "import pandas as pd\n",
    "from patsy import dmatrices\n",
    "from statsmodels.stats.multicomp import pairwise_tukeyhsd, MultiComparison, tukeyhsd\n",
    "from statsmodels.sandbox.stats.multicomp import multipletests\n",
    "from statsmodels.stats.weightstats import ttest_ind\n",
    "from statsmodels.sandbox.stats.multicomp import multipletests\n",
    "import numpy as np\n",
    "from statsmodels.stats.libqsturng import psturng\n",
    "from statsmodels.formula.api import ols"
   ]
  },
  {
   "cell_type": "markdown",
   "metadata": {},
   "source": [
    "# All topic test Exp2,Exp4a and Exp4b (PPV)"
   ]
  },
  {
   "cell_type": "markdown",
   "metadata": {},
   "source": [
    "# Anova again"
   ]
  },
  {
   "cell_type": "code",
   "execution_count": 352,
   "metadata": {
    "collapsed": false
   },
   "outputs": [],
   "source": [
    "LIST_OF_TESTS= []"
   ]
  },
  {
   "cell_type": "code",
   "execution_count": 353,
   "metadata": {
    "collapsed": true
   },
   "outputs": [],
   "source": [
    "from numpy import std, mean, sqrt\n",
    "\n",
    "#correct if the population S.D. is expected to be equal for the two groups.\n",
    "def cohen_d(x,y):\n",
    "    nx = len(x)\n",
    "    ny = len(y)\n",
    "    dof = nx + ny - 2\n",
    "    d =(mean(x) - mean(y)) / sqrt(((nx-1)*std(x, ddof=1) ** 2 + (ny-1)*std(y, ddof=1) ** 2) / dof)\n",
    "    if d < 0.20:\n",
    "        effect = 'very small (Sawilowsky, 2009)'\n",
    "    elif d < 0.5:\n",
    "        effect = 'small (Cohen, 1988)'\n",
    "    elif d < 0.8:\n",
    "        effect = 'medium (Cohen, 1988)'\n",
    "    elif d < 1.2:\n",
    "        effect = 'large (Cohen, 1988)'\n",
    "    elif d < 2:\n",
    "        effect = 'very large (Sawilowsky, 2009)'\n",
    "    else:\n",
    "        effect = 'huge (Sawilowsky, 2009)'\n",
    "    return d,effect"
   ]
  },
  {
   "cell_type": "code",
   "execution_count": 354,
   "metadata": {
    "collapsed": true
   },
   "outputs": [],
   "source": [
    "def compute_tukey(df,target,classes):\n",
    "    results_tukey = pairwise_tukeyhsd(df[target], df[classes])\n",
    "    v = np.abs(results_tukey.meandiffs/ results_tukey.std_pairs)\n",
    "    confidence = psturng(v, len(results_tukey.groupsunique), results_tukey.df_total)\n",
    "    return results_tukey.summary(),confidence"
   ]
  },
  {
   "cell_type": "code",
   "execution_count": 355,
   "metadata": {
    "collapsed": true
   },
   "outputs": [],
   "source": [
    "df = pd.read_csv('alltopics_forAnova.csv')\n",
    "df.loc[df.batch=='batch_7',['typex']] = 'special'\n",
    "df = df[df.typex!='random']"
   ]
  },
  {
   "cell_type": "code",
   "execution_count": 356,
   "metadata": {
    "collapsed": true
   },
   "outputs": [],
   "source": [
    "df1= df[df.balance==10]\n",
    "df2= df[df.balance==50]"
   ]
  },
  {
   "cell_type": "code",
   "execution_count": 357,
   "metadata": {
    "collapsed": true
   },
   "outputs": [],
   "source": [
    "df_first_part =df[df.typex!='special']"
   ]
  },
  {
   "cell_type": "code",
   "execution_count": 358,
   "metadata": {
    "collapsed": false
   },
   "outputs": [
    {
     "data": {
      "text/plain": [
       "array(['first', 'last'], dtype=object)"
      ]
     },
     "execution_count": 358,
     "metadata": {},
     "output_type": "execute_result"
    }
   ],
   "source": [
    "df_first_part.typex.unique()"
   ]
  },
  {
   "cell_type": "code",
   "execution_count": 359,
   "metadata": {
    "collapsed": false
   },
   "outputs": [
    {
     "data": {
      "text/html": [
       "<div>\n",
       "<table border=\"1\" class=\"dataframe\">\n",
       "  <thead>\n",
       "    <tr style=\"text-align: right;\">\n",
       "      <th></th>\n",
       "      <th>sum_sq</th>\n",
       "      <th>df</th>\n",
       "      <th>F</th>\n",
       "      <th>PR(&gt;F)</th>\n",
       "    </tr>\n",
       "  </thead>\n",
       "  <tbody>\n",
       "    <tr>\n",
       "      <th>typex</th>\n",
       "      <td>0.297683</td>\n",
       "      <td>1.0</td>\n",
       "      <td>5.652380</td>\n",
       "      <td>1.780755e-02</td>\n",
       "    </tr>\n",
       "    <tr>\n",
       "      <th>balance</th>\n",
       "      <td>26.901288</td>\n",
       "      <td>1.0</td>\n",
       "      <td>510.800279</td>\n",
       "      <td>2.085230e-78</td>\n",
       "    </tr>\n",
       "    <tr>\n",
       "      <th>typex:balance</th>\n",
       "      <td>0.189282</td>\n",
       "      <td>1.0</td>\n",
       "      <td>3.594072</td>\n",
       "      <td>5.856349e-02</td>\n",
       "    </tr>\n",
       "    <tr>\n",
       "      <th>Residual</th>\n",
       "      <td>26.279827</td>\n",
       "      <td>499.0</td>\n",
       "      <td>NaN</td>\n",
       "      <td>NaN</td>\n",
       "    </tr>\n",
       "  </tbody>\n",
       "</table>\n",
       "</div>"
      ],
      "text/plain": [
       "                  sum_sq     df           F        PR(>F)\n",
       "typex           0.297683    1.0    5.652380  1.780755e-02\n",
       "balance        26.901288    1.0  510.800279  2.085230e-78\n",
       "typex:balance   0.189282    1.0    3.594072  5.856349e-02\n",
       "Residual       26.279827  499.0         NaN           NaN"
      ]
     },
     "execution_count": 359,
     "metadata": {},
     "output_type": "execute_result"
    }
   ],
   "source": [
    "df_fit = ols('PPV ~ typex*balance ',data=df_first_part).fit()\n",
    "anova_results = sm.stats.anova_lm(df_fit, typ=2)\n",
    "anova_results"
   ]
  },
  {
   "cell_type": "code",
   "execution_count": 360,
   "metadata": {
    "collapsed": false
   },
   "outputs": [
    {
     "data": {
      "text/plain": [
       "typex             True\n",
       "balance           True\n",
       "typex:balance    False\n",
       "Residual         False\n",
       "Name: PR(>F), dtype: bool"
      ]
     },
     "execution_count": 360,
     "metadata": {},
     "output_type": "execute_result"
    }
   ],
   "source": [
    "anova_results['PR(>F)']<0.05"
   ]
  },
  {
   "cell_type": "code",
   "execution_count": 361,
   "metadata": {
    "collapsed": false
   },
   "outputs": [
    {
     "name": "stdout",
     "output_type": "stream",
     "text": [
      "(3.2226457079770752, 0.00071910110285952676, 251.0)\n",
      "(0.40524049000741369, 'small (Cohen, 1988)')\n"
     ]
    }
   ],
   "source": [
    "#As a post-hoc for typex we use t-test\n",
    "x = df_first_part[(df_first_part['typex']=='first')&(df_first_part['balance']==50)].PPV\n",
    "y = df_first_part[(df_first_part['typex']=='last')&(df_first_part['balance']==50)].PPV\n",
    "a1 = ttest_ind(x,y,alternative='larger')\n",
    "print(a1)\n",
    "print(cohen_d(x,y))\n",
    "LIST_OF_TESTS= np.append(LIST_OF_TESTS,a1[1])"
   ]
  },
  {
   "cell_type": "code",
   "execution_count": 362,
   "metadata": {
    "collapsed": false
   },
   "outputs": [
    {
     "name": "stdout",
     "output_type": "stream",
     "text": [
      "(0.3127660041044481, 0.37736064549829457, 248.0)\n",
      "(0.03957351672006644, 'very small (Sawilowsky, 2009)')\n"
     ]
    }
   ],
   "source": [
    "x = df_first_part[(df_first_part['typex']=='first')&(df_first_part['balance']==10)].PPV\n",
    "y = df_first_part[(df_first_part['typex']=='last')&(df_first_part['balance']==10)].PPV\n",
    "a1 = ttest_ind(x,y,alternative='larger')\n",
    "print(a1)\n",
    "print(cohen_d(x,y))\n",
    "LIST_OF_TESTS= np.append(LIST_OF_TESTS,a1[1])"
   ]
  },
  {
   "cell_type": "code",
   "execution_count": 363,
   "metadata": {
    "collapsed": false
   },
   "outputs": [
    {
     "name": "stdout",
     "output_type": "stream",
     "text": [
      "Multiple Comparison of Means - Tukey HSD,FWER=0.05\n",
      "===========================================\n",
      "group1 group2 meandiff lower  upper  reject\n",
      "-------------------------------------------\n",
      "  10     50    0.4617  0.4212 0.5022  True \n",
      "-------------------------------------------\n"
     ]
    },
    {
     "data": {
      "text/plain": [
       "0.001"
      ]
     },
     "execution_count": 363,
     "metadata": {},
     "output_type": "execute_result"
    }
   ],
   "source": [
    "(result,confidence) = compute_tukey(df_first_part,'PPV','balance')\n",
    "print(result)\n",
    "confidence"
   ]
  },
  {
   "cell_type": "code",
   "execution_count": 364,
   "metadata": {
    "collapsed": false
   },
   "outputs": [
    {
     "name": "stdout",
     "output_type": "stream",
     "text": [
      "(-33.196264535431737, 1.0870906956484232e-163, 1004.0)\n",
      "(0.03957351672006644, 'very small (Sawilowsky, 2009)')\n"
     ]
    }
   ],
   "source": [
    "a1 = ttest_ind(df_first_part['PPV'],df_first_part['balance'])\n",
    "print(a1)\n",
    "print(cohen_d(x,y))"
   ]
  },
  {
   "cell_type": "code",
   "execution_count": 365,
   "metadata": {
    "collapsed": false
   },
   "outputs": [],
   "source": [
    "#LIST_OF_TESTS = np.append(LIST_OF_TESTS,confidence) #not really need to do this post-hoc since is only one var"
   ]
  },
  {
   "cell_type": "code",
   "execution_count": 366,
   "metadata": {
    "collapsed": false
   },
   "outputs": [
    {
     "data": {
      "text/plain": [
       "(array([ True, False], dtype=bool),\n",
       " array([ 0.0014382 ,  0.37736065]),\n",
       " 0.025320565519103666,\n",
       " 0.025)"
      ]
     },
     "execution_count": 366,
     "metadata": {},
     "output_type": "execute_result"
    }
   ],
   "source": [
    "multipletests(LIST_OF_TESTS,method='holm')"
   ]
  },
  {
   "cell_type": "markdown",
   "metadata": {},
   "source": [
    "# let's try to add also special now"
   ]
  },
  {
   "cell_type": "code",
   "execution_count": 381,
   "metadata": {
    "collapsed": true
   },
   "outputs": [],
   "source": [
    "df_fit = ols('PPV ~ typex ',data=df2).fit()"
   ]
  },
  {
   "cell_type": "code",
   "execution_count": 382,
   "metadata": {
    "collapsed": false
   },
   "outputs": [
    {
     "data": {
      "text/html": [
       "<div>\n",
       "<table border=\"1\" class=\"dataframe\">\n",
       "  <thead>\n",
       "    <tr style=\"text-align: right;\">\n",
       "      <th></th>\n",
       "      <th>df</th>\n",
       "      <th>sum_sq</th>\n",
       "      <th>mean_sq</th>\n",
       "      <th>F</th>\n",
       "      <th>PR(&gt;F)</th>\n",
       "    </tr>\n",
       "  </thead>\n",
       "  <tbody>\n",
       "    <tr>\n",
       "      <th>typex</th>\n",
       "      <td>2.0</td>\n",
       "      <td>0.535338</td>\n",
       "      <td>0.267669</td>\n",
       "      <td>5.447993</td>\n",
       "      <td>0.004647</td>\n",
       "    </tr>\n",
       "    <tr>\n",
       "      <th>Residual</th>\n",
       "      <td>381.0</td>\n",
       "      <td>18.719183</td>\n",
       "      <td>0.049132</td>\n",
       "      <td>NaN</td>\n",
       "      <td>NaN</td>\n",
       "    </tr>\n",
       "  </tbody>\n",
       "</table>\n",
       "</div>"
      ],
      "text/plain": [
       "             df     sum_sq   mean_sq         F    PR(>F)\n",
       "typex       2.0   0.535338  0.267669  5.447993  0.004647\n",
       "Residual  381.0  18.719183  0.049132       NaN       NaN"
      ]
     },
     "execution_count": 382,
     "metadata": {},
     "output_type": "execute_result"
    }
   ],
   "source": [
    "anova_results = sm.stats.anova_lm(df_fit, typ=1)\n",
    "anova_results"
   ]
  },
  {
   "cell_type": "code",
   "execution_count": 369,
   "metadata": {
    "collapsed": false
   },
   "outputs": [
    {
     "data": {
      "text/plain": [
       "typex        True\n",
       "Residual    False\n",
       "Name: PR(>F), dtype: bool"
      ]
     },
     "execution_count": 369,
     "metadata": {},
     "output_type": "execute_result"
    }
   ],
   "source": [
    "anova_results['PR(>F)']<0.05"
   ]
  },
  {
   "cell_type": "code",
   "execution_count": 370,
   "metadata": {
    "collapsed": false
   },
   "outputs": [
    {
     "name": "stdout",
     "output_type": "stream",
     "text": [
      "Multiple Comparison of Means - Tukey HSD,FWER=0.05\n",
      "==============================================\n",
      "group1  group2 meandiff  lower   upper  reject\n",
      "----------------------------------------------\n",
      "first    last  -0.0872  -0.1528 -0.0216  True \n",
      "first  special -0.0191  -0.0843  0.0461 False \n",
      " last  special  0.0681   0.0033  0.133   True \n",
      "----------------------------------------------\n"
     ]
    },
    {
     "data": {
      "text/plain": [
       "array([ 0.00534867,  0.75017688,  0.03670704])"
      ]
     },
     "execution_count": 370,
     "metadata": {},
     "output_type": "execute_result"
    }
   ],
   "source": [
    "(result,confidence) = compute_tukey(df2,'PPV','typex')\n",
    "print(result)\n",
    "confidence"
   ]
  },
  {
   "cell_type": "code",
   "execution_count": 371,
   "metadata": {
    "collapsed": true
   },
   "outputs": [],
   "source": [
    "LIST_OF_TESTS = np.append(LIST_OF_TESTS,confidence)"
   ]
  },
  {
   "cell_type": "code",
   "execution_count": 380,
   "metadata": {
    "collapsed": false
   },
   "outputs": [
    {
     "name": "stdout",
     "output_type": "stream",
     "text": [
      "[  7.19101103e-04   3.77360645e-01   5.34866952e-03   7.50176881e-01\n",
      "   3.67070431e-02]\n"
     ]
    },
    {
     "data": {
      "text/plain": [
       "(array([ True, False,  True, False,  True], dtype=bool),\n",
       " array([ 0.00226517,  0.29717151,  0.00842415,  0.47261143,  0.0385424 ]),\n",
       " 0.010206218313011495,\n",
       " 0.01)"
      ]
     },
     "execution_count": 380,
     "metadata": {},
     "output_type": "execute_result"
    }
   ],
   "source": [
    "print(LIST_OF_TESTS)\n",
    "multipletests(LIST_OF_TESTS,method='fdr_tsbky')"
   ]
  },
  {
   "cell_type": "markdown",
   "metadata": {},
   "source": [
    "## Summary\n",
    "We want to test the trend with see in Figure 2: showing relevant results first improves accuracy and PPV. To test this intuition we first perform a two-tailed ANOVA test on the PPV with the two factors being the order ('relevant first', 'relevant last') and the balance ('10\\%-90\\%' and '50\\%-50\\%'). The results show that both balance and order affect the PPV (F(1,499)=510.8, $p<10^{-78}$ and F(1,499)=5.65, $p=0.01$). As a post-hoc analysis (with FDR correction for multiple tests) we first investigate whether 'relevant first' does indeed lead to a better PPV. Thus, we perform two one-tailed t-tests, one for each balance ('10\\%-90\\%' and '50\\%-50\\%').  We obtain that for the inbalance case the result are not statistically significant (p=0.008), while for the balanced case indeed the accuracy is larger when relevant results are presented first, with an effect size of $d=0.04$ and $p=0.002<0.05$.\n",
    "\n",
    "Regarding batch 7, we cannot include it the aforementioned two-way ANOVA, because this order technique have been tried only on the balanced result. We thus perform a one way ANOVA on PPV and order ('relevant first', 'relevant last', and 'batch 7'), that confirms that PPV is affected by the order (F(2,381)=5.45, $p=0.004$). We then perform a post-hoc Tukey HSD test (included in the FDR correction as above), that confirms that 'relevant first' and 'batch 7' are significantly different than 'relevant last' ($p=0.03$, $p=0.008$), while 'relevant first' and 'batch 7' were not significantly different, as one could expect since they are partly overlapping."
   ]
  },
  {
   "cell_type": "code",
   "execution_count": null,
   "metadata": {
    "collapsed": true
   },
   "outputs": [],
   "source": []
  },
  {
   "cell_type": "code",
   "execution_count": 116,
   "metadata": {
    "collapsed": false
   },
   "outputs": [],
   "source": []
  },
  {
   "cell_type": "code",
   "execution_count": null,
   "metadata": {
    "collapsed": true
   },
   "outputs": [],
   "source": []
  },
  {
   "cell_type": "code",
   "execution_count": 117,
   "metadata": {
    "collapsed": false
   },
   "outputs": [
    {
     "name": "stdout",
     "output_type": "stream",
     "text": [
      "(3.2226457079770752, 0.00071910110285952676, 251.0)\n",
      "(0.40524049000741369, 'small (Cohen, 1988)')\n"
     ]
    }
   ],
   "source": [
    "x = df[(df['typex']=='first')&(df['balance']==50)].PPV\n",
    "y = df[(df['typex']=='last')&(df['balance']==50)].PPV\n",
    "a1 = ttest_ind(x,y,alternative='larger')\n",
    "print(a1)\n",
    "print(cohen_d(x,y))"
   ]
  },
  {
   "cell_type": "code",
   "execution_count": 118,
   "metadata": {
    "collapsed": false
   },
   "outputs": [
    {
     "name": "stdout",
     "output_type": "stream",
     "text": [
      "(2.6088017050289909, 0.0048155726290837154, 251.0)\n",
      "(0.32805097956043971, 'small (Cohen, 1988)')\n"
     ]
    }
   ],
   "source": [
    "x = df[(df['typex']=='first')&(df['balance']==50)].Accuracy\n",
    "y = df[(df['typex']=='last')&(df['balance']==50)].Accuracy\n",
    "a2 = ttest_ind(x,y,alternative='larger')\n",
    "print(a2)\n",
    "print(cohen_d(x,y))"
   ]
  },
  {
   "cell_type": "code",
   "execution_count": null,
   "metadata": {
    "collapsed": true
   },
   "outputs": [],
   "source": [
    "x = df[(df['typex']=='first')&(df['balance']==10)].PPV\n",
    "y = df[(df['typex']=='last')&(df['balance']==10)].PPV\n",
    "a1 = ttest_ind(x,y,alternative='larger')\n",
    "print(a1)\n",
    "print(cohen_d(x,y))"
   ]
  },
  {
   "cell_type": "code",
   "execution_count": 119,
   "metadata": {
    "collapsed": false
   },
   "outputs": [
    {
     "name": "stdout",
     "output_type": "stream",
     "text": [
      "(0.28218404740934044, 0.38901886884753717, 248.0)\n",
      "(0.035704056616587487, 'very small (Sawilowsky, 2009)')\n"
     ]
    }
   ],
   "source": [
    "x = df[(df['typex']=='first')&(df['balance']==10)].Accuracy\n",
    "y = df[(df['typex']=='last')&(df['balance']==10)].Accuracy\n",
    "a1 = ttest_ind(x,y,alternative='larger')\n",
    "print(a1)\n",
    "print(cohen_d(x,y))"
   ]
  },
  {
   "cell_type": "code",
   "execution_count": 94,
   "metadata": {
    "collapsed": false
   },
   "outputs": [
    {
     "data": {
      "text/plain": [
       "(array([ True], dtype=bool),\n",
       " array([ 0.00481557]),\n",
       " 0.0048155726290837197,\n",
       " 0.0048155726290837154)"
      ]
     },
     "execution_count": 94,
     "metadata": {},
     "output_type": "execute_result"
    }
   ],
   "source": [
    "multipletests(a1[1],a2[1],method='holm')"
   ]
  },
  {
   "cell_type": "code",
   "execution_count": 56,
   "metadata": {
    "collapsed": false
   },
   "outputs": [
    {
     "data": {
      "text/plain": [
       "(2.6088017050289909, 0.0048155726290837154, 251.0)"
      ]
     },
     "execution_count": 56,
     "metadata": {},
     "output_type": "execute_result"
    }
   ],
   "source": [
    "x = df[(df['typex']=='random')&(df['balance']==50)].Accuracy\n",
    "y = df[(df['typex']=='last')&(df['balance']==50)].Accuracy\n",
    "a1 = ttest_ind(x,y)\n",
    "print(a1)\n",
    "print(cohen_d(x,y))\n",
    "a2 = ttest_ind(df[(df['typex']=='first')&(df['balance']==50)].Accuracy,df[(df['typex']=='last')&(df['balance']==50)].Accuracy,alternative='larger')\n",
    "a2"
   ]
  },
  {
   "cell_type": "code",
   "execution_count": 66,
   "metadata": {
    "collapsed": false
   },
   "outputs": [
    {
     "data": {
      "text/plain": [
       "(-0.70921263081935859, 0.4794433215235836, 132.0)"
      ]
     },
     "execution_count": 66,
     "metadata": {},
     "output_type": "execute_result"
    }
   ],
   "source": [
    "a3 = ttest_ind(df[(df['typex']=='random')&(df['balance']==50)].Accuracy,df[(df['typex']=='first')&(df['balance']==50)].Accuracy)\n",
    "a3"
   ]
  },
  {
   "cell_type": "code",
   "execution_count": 67,
   "metadata": {
    "collapsed": false
   },
   "outputs": [
    {
     "data": {
      "text/plain": [
       "(1.7587494227208926, 0.080836638558093601, 138.0)"
      ]
     },
     "execution_count": 67,
     "metadata": {},
     "output_type": "execute_result"
    }
   ],
   "source": [
    "a4 = ttest_ind(df[(df['typex']=='random')&(df['balance']==50)].Accuracy,df[(df['typex']=='last')&(df['balance']==50)].Accuracy)\n",
    "a4"
   ]
  },
  {
   "cell_type": "code",
   "execution_count": 59,
   "metadata": {
    "collapsed": false
   },
   "outputs": [
    {
     "data": {
      "text/plain": [
       "(array([ True,  True, False, False], dtype=bool),\n",
       " array([ 0.0028764 ,  0.01444672,  0.21700087,  0.21700087]),\n",
       " 0.012741455098566168,\n",
       " 0.0125)"
      ]
     },
     "execution_count": 59,
     "metadata": {},
     "output_type": "execute_result"
    }
   ],
   "source": [
    "multipletests([a1[1],a2[1],a3[1],a4[1]],method='holm')"
   ]
  },
  {
   "cell_type": "code",
   "execution_count": 75,
   "metadata": {
    "collapsed": false
   },
   "outputs": [
    {
     "data": {
      "text/plain": [
       "0.45558175996348543"
      ]
     },
     "execution_count": 75,
     "metadata": {},
     "output_type": "execute_result"
    }
   ],
   "source": [
    "smp.ttest_power(0.2, nobs=60, alpha=0.1, alternative='two-sided')"
   ]
  },
  {
   "cell_type": "code",
   "execution_count": 78,
   "metadata": {
    "collapsed": false
   },
   "outputs": [
    {
     "name": "stderr",
     "output_type": "stream",
     "text": [
      "/Library/Frameworks/Python.framework/Versions/3.5/lib/python3.5/site-packages/statsmodels/stats/power.py:63: VisibleDeprecationWarning: using a non-integer number instead of an integer will result in an error in the future\n",
      "  pow_ = stats.nct._sf(crit_upp, df, d*np.sqrt(nobs))\n"
     ]
    },
    {
     "ename": "TypeError",
     "evalue": "unsupported operand type(s) for *: 'NoneType' and 'float'",
     "output_type": "error",
     "traceback": [
      "\u001b[0;31m---------------------------------------------------------------------------\u001b[0m",
      "\u001b[0;31mTypeError\u001b[0m                                 Traceback (most recent call last)",
      "\u001b[0;32m<ipython-input-78-fc2935a6ec57>\u001b[0m in \u001b[0;36m<module>\u001b[0;34m()\u001b[0m\n\u001b[0;32m----> 1\u001b[0;31m \u001b[0msmp\u001b[0m\u001b[0;34m.\u001b[0m\u001b[0mttest_power\u001b[0m\u001b[0;34m(\u001b[0m\u001b[0;32mNone\u001b[0m\u001b[0;34m,\u001b[0m \u001b[0mnobs\u001b[0m\u001b[0;34m=\u001b[0m\u001b[0;36m138\u001b[0m\u001b[0;34m,\u001b[0m \u001b[0malpha\u001b[0m\u001b[0;34m=\u001b[0m\u001b[0;36m0.08\u001b[0m\u001b[0;34m)\u001b[0m\u001b[0;34m\u001b[0m\u001b[0m\n\u001b[0m",
      "\u001b[0;32m/Library/Frameworks/Python.framework/Versions/3.5/lib/python3.5/site-packages/statsmodels/stats/power.py\u001b[0m in \u001b[0;36mttest_power\u001b[0;34m(effect_size, nobs, alpha, df, alternative)\u001b[0m\n\u001b[1;32m     61\u001b[0m             \u001b[0mpow_\u001b[0m \u001b[0;34m=\u001b[0m \u001b[0mnp\u001b[0m\u001b[0;34m.\u001b[0m\u001b[0mnan\u001b[0m\u001b[0;34m\u001b[0m\u001b[0m\n\u001b[1;32m     62\u001b[0m         \u001b[0;32melse\u001b[0m\u001b[0;34m:\u001b[0m\u001b[0;34m\u001b[0m\u001b[0m\n\u001b[0;32m---> 63\u001b[0;31m             \u001b[0mpow_\u001b[0m \u001b[0;34m=\u001b[0m \u001b[0mstats\u001b[0m\u001b[0;34m.\u001b[0m\u001b[0mnct\u001b[0m\u001b[0;34m.\u001b[0m\u001b[0m_sf\u001b[0m\u001b[0;34m(\u001b[0m\u001b[0mcrit_upp\u001b[0m\u001b[0;34m,\u001b[0m \u001b[0mdf\u001b[0m\u001b[0;34m,\u001b[0m \u001b[0md\u001b[0m\u001b[0;34m*\u001b[0m\u001b[0mnp\u001b[0m\u001b[0;34m.\u001b[0m\u001b[0msqrt\u001b[0m\u001b[0;34m(\u001b[0m\u001b[0mnobs\u001b[0m\u001b[0;34m)\u001b[0m\u001b[0;34m)\u001b[0m\u001b[0;34m\u001b[0m\u001b[0m\n\u001b[0m\u001b[1;32m     64\u001b[0m     \u001b[0;32mif\u001b[0m \u001b[0malternative\u001b[0m \u001b[0;32min\u001b[0m \u001b[0;34m[\u001b[0m\u001b[0;34m'two-sided'\u001b[0m\u001b[0;34m,\u001b[0m \u001b[0;34m'2s'\u001b[0m\u001b[0;34m,\u001b[0m \u001b[0;34m'smaller'\u001b[0m\u001b[0;34m]\u001b[0m\u001b[0;34m:\u001b[0m\u001b[0;34m\u001b[0m\u001b[0m\n\u001b[1;32m     65\u001b[0m         \u001b[0mcrit_low\u001b[0m \u001b[0;34m=\u001b[0m \u001b[0mstats\u001b[0m\u001b[0;34m.\u001b[0m\u001b[0mt\u001b[0m\u001b[0;34m.\u001b[0m\u001b[0mppf\u001b[0m\u001b[0;34m(\u001b[0m\u001b[0malpha_\u001b[0m\u001b[0;34m,\u001b[0m \u001b[0mdf\u001b[0m\u001b[0;34m)\u001b[0m\u001b[0;34m\u001b[0m\u001b[0m\n",
      "\u001b[0;31mTypeError\u001b[0m: unsupported operand type(s) for *: 'NoneType' and 'float'"
     ]
    }
   ],
   "source": [
    "smp.ttest_power(, nobs=138, alpha=0.08)"
   ]
  },
  {
   "cell_type": "markdown",
   "metadata": {
    "collapsed": true
   },
   "source": [
    "considering all topics, first is better than last for 50-50 in both term of accuracy and PPV, while there is not enough evidence "
   ]
  },
  {
   "cell_type": "code",
   "execution_count": 60,
   "metadata": {
    "collapsed": true
   },
   "outputs": [],
   "source": [
    "df = pd.read_csv('Exp2_forAnova.csv')"
   ]
  },
  {
   "cell_type": "code",
   "execution_count": 61,
   "metadata": {
    "collapsed": false
   },
   "outputs": [
    {
     "data": {
      "text/plain": [
       "(2.3599183954989336, 0.010220051809051594, 90.0)"
      ]
     },
     "execution_count": 61,
     "metadata": {},
     "output_type": "execute_result"
    }
   ],
   "source": [
    "b1 = ttest_ind(df[(df['typex']=='first')&(df['balance']==50)].PPV,df[(df['typex']=='last')&(df['balance']==50)].PPV,alternative='larger')\n",
    "b1"
   ]
  },
  {
   "cell_type": "code",
   "execution_count": 62,
   "metadata": {
    "collapsed": false
   },
   "outputs": [
    {
     "data": {
      "text/plain": [
       "(1.6021061925946132, 0.056318165320166931, 90.0)"
      ]
     },
     "execution_count": 62,
     "metadata": {},
     "output_type": "execute_result"
    }
   ],
   "source": [
    "b2 = ttest_ind(df[(df['typex']=='first')&(df['balance']==50)].Accuracy,df[(df['typex']=='last')&(df['balance']==50)].Accuracy,alternative='larger')\n",
    "b2"
   ]
  },
  {
   "cell_type": "code",
   "execution_count": 63,
   "metadata": {
    "collapsed": false
   },
   "outputs": [
    {
     "data": {
      "text/plain": [
       "(-0.80834313265678148, 0.42034751998311026, 132.0)"
      ]
     },
     "execution_count": 63,
     "metadata": {},
     "output_type": "execute_result"
    }
   ],
   "source": [
    "b3 = ttest_ind(df[(df['typex']=='random')&(df['balance']==50)].Accuracy,df[(df['typex']=='first')&(df['balance']==50)].Accuracy)\n",
    "b3"
   ]
  },
  {
   "cell_type": "code",
   "execution_count": 64,
   "metadata": {
    "collapsed": false
   },
   "outputs": [
    {
     "data": {
      "text/plain": [
       "(0.88286960004334025, 0.3788420865298312, 138.0)"
      ]
     },
     "execution_count": 64,
     "metadata": {},
     "output_type": "execute_result"
    }
   ],
   "source": [
    "b4 = ttest_ind(df[(df['typex']=='random')&(df['balance']==50)].Accuracy,df[(df['typex']=='last')&(df['balance']==50)].Accuracy)\n",
    "b4"
   ]
  },
  {
   "cell_type": "code",
   "execution_count": 65,
   "metadata": {
    "collapsed": false
   },
   "outputs": [
    {
     "data": {
      "text/plain": [
       "(array([ True,  True, False, False, False, False, False, False], dtype=bool),\n",
       " array([ 0.00575281,  0.03370901,  0.43400175,  0.44571372,  0.06132031,\n",
       "         0.28159083,  0.75768417,  0.75768417]),\n",
       " 0.0063911509545450107,\n",
       " 0.00625)"
      ]
     },
     "execution_count": 65,
     "metadata": {},
     "output_type": "execute_result"
    }
   ],
   "source": [
    "multipletests([a1[1],a2[1],a3[1],a4[1],b1[1],b2[1],b3[1],b4[1]],method='holm')"
   ]
  },
  {
   "cell_type": "code",
   "execution_count": 69,
   "metadata": {
    "collapsed": true
   },
   "outputs": [],
   "source": [
    "ttest_ind?"
   ]
  },
  {
   "cell_type": "code",
   "execution_count": null,
   "metadata": {
    "collapsed": true
   },
   "outputs": [],
   "source": []
  }
 ],
 "metadata": {
  "anaconda-cloud": {},
  "kernelspec": {
   "display_name": "Python 3",
   "language": "python",
   "name": "python3"
  },
  "language_info": {
   "codemirror_mode": {
    "name": "ipython",
    "version": 3
   },
   "file_extension": ".py",
   "mimetype": "text/x-python",
   "name": "python",
   "nbconvert_exporter": "python",
   "pygments_lexer": "ipython3",
   "version": "3.5.1"
  },
  "toc": {
   "colors": {
    "hover_highlight": "#DAA520",
    "running_highlight": "#FF0000",
    "selected_highlight": "#FFD700"
   },
   "moveMenuLeft": true,
   "nav_menu": {
    "height": "30px",
    "width": "252px"
   },
   "navigate_menu": true,
   "number_sections": true,
   "sideBar": true,
   "threshold": 4,
   "toc_cell": false,
   "toc_section_display": "block",
   "toc_window_display": false
  }
 },
 "nbformat": 4,
 "nbformat_minor": 2
}
