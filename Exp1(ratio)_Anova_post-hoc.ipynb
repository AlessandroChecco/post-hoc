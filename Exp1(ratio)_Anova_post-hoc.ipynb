{
 "cells": [
  {
   "cell_type": "code",
   "execution_count": 1,
   "metadata": {
    "collapsed": false
   },
   "outputs": [],
   "source": [
    "import statsmodels.api as sm\n",
    "import pandas as pd\n",
    "from patsy import dmatrices\n",
    "from statsmodels.stats.multicomp import pairwise_tukeyhsd, MultiComparison, tukeyhsd\n",
    "import numpy as np\n",
    "from statsmodels.stats.libqsturng import psturng\n",
    "from statsmodels.formula.api import ols"
   ]
  },
  {
   "cell_type": "code",
   "execution_count": 3,
   "metadata": {
    "collapsed": false,
    "scrolled": true
   },
   "outputs": [
    {
     "data": {
      "text/html": [
       "<div>\n",
       "<table border=\"1\" class=\"dataframe\">\n",
       "  <thead>\n",
       "    <tr style=\"text-align: right;\">\n",
       "      <th></th>\n",
       "      <th>Unnamed: 0</th>\n",
       "      <th>PPV</th>\n",
       "      <th>NPV</th>\n",
       "      <th>Accuracy</th>\n",
       "      <th>time(s)</th>\n",
       "      <th>batch</th>\n",
       "      <th>ratio</th>\n",
       "    </tr>\n",
       "  </thead>\n",
       "  <tbody>\n",
       "    <tr>\n",
       "      <th>0</th>\n",
       "      <td>0</td>\n",
       "      <td>0.250000</td>\n",
       "      <td>1.000000</td>\n",
       "      <td>0.70</td>\n",
       "      <td>827.6250</td>\n",
       "      <td>batch_1</td>\n",
       "      <td>10%</td>\n",
       "    </tr>\n",
       "    <tr>\n",
       "      <th>1</th>\n",
       "      <td>1</td>\n",
       "      <td>0.333333</td>\n",
       "      <td>0.951220</td>\n",
       "      <td>0.84</td>\n",
       "      <td>782.8750</td>\n",
       "      <td>batch_1</td>\n",
       "      <td>10%</td>\n",
       "    </tr>\n",
       "    <tr>\n",
       "      <th>2</th>\n",
       "      <td>2</td>\n",
       "      <td>0.090909</td>\n",
       "      <td>0.892857</td>\n",
       "      <td>0.54</td>\n",
       "      <td>1581.1875</td>\n",
       "      <td>batch_1</td>\n",
       "      <td>10%</td>\n",
       "    </tr>\n",
       "    <tr>\n",
       "      <th>3</th>\n",
       "      <td>3</td>\n",
       "      <td>0.080000</td>\n",
       "      <td>0.880000</td>\n",
       "      <td>0.48</td>\n",
       "      <td>1514.0625</td>\n",
       "      <td>batch_1</td>\n",
       "      <td>10%</td>\n",
       "    </tr>\n",
       "    <tr>\n",
       "      <th>4</th>\n",
       "      <td>4</td>\n",
       "      <td>0.187500</td>\n",
       "      <td>0.941176</td>\n",
       "      <td>0.70</td>\n",
       "      <td>734.1250</td>\n",
       "      <td>batch_1</td>\n",
       "      <td>10%</td>\n",
       "    </tr>\n",
       "  </tbody>\n",
       "</table>\n",
       "</div>"
      ],
      "text/plain": [
       "   Unnamed: 0       PPV       NPV  Accuracy    time(s)    batch ratio\n",
       "0           0  0.250000  1.000000      0.70   827.6250  batch_1   10%\n",
       "1           1  0.333333  0.951220      0.84   782.8750  batch_1   10%\n",
       "2           2  0.090909  0.892857      0.54  1581.1875  batch_1   10%\n",
       "3           3  0.080000  0.880000      0.48  1514.0625  batch_1   10%\n",
       "4           4  0.187500  0.941176      0.70   734.1250  batch_1   10%"
      ]
     },
     "execution_count": 3,
     "metadata": {},
     "output_type": "execute_result"
    }
   ],
   "source": [
    "df = pd.read_csv('Exp1(ratio)__Anova_post-hoc.csv')\n",
    "df.head()"
   ]
  },
  {
   "cell_type": "code",
   "execution_count": 4,
   "metadata": {
    "collapsed": false
   },
   "outputs": [],
   "source": [
    "df['ratio_number'] = df.ratio.str.replace('%', '').astype(int)"
   ]
  },
  {
   "cell_type": "code",
   "execution_count": 5,
   "metadata": {
    "collapsed": false
   },
   "outputs": [
    {
     "data": {
      "text/html": [
       "<table class=\"simpletable\">\n",
       "<caption>OLS Regression Results</caption>\n",
       "<tr>\n",
       "  <th>Dep. Variable:</th>           <td>PPV</td>       <th>  R-squared:         </th> <td>   0.954</td>\n",
       "</tr>\n",
       "<tr>\n",
       "  <th>Model:</th>                   <td>OLS</td>       <th>  Adj. R-squared:    </th> <td>   0.953</td>\n",
       "</tr>\n",
       "<tr>\n",
       "  <th>Method:</th>             <td>Least Squares</td>  <th>  F-statistic:       </th> <td>   2048.</td>\n",
       "</tr>\n",
       "<tr>\n",
       "  <th>Date:</th>             <td>Wed, 20 Dec 2017</td> <th>  Prob (F-statistic):</th> <td>5.86e-68</td>\n",
       "</tr>\n",
       "<tr>\n",
       "  <th>Time:</th>                 <td>05:40:30</td>     <th>  Log-Likelihood:    </th> <td>  40.299</td>\n",
       "</tr>\n",
       "<tr>\n",
       "  <th>No. Observations:</th>      <td>   100</td>      <th>  AIC:               </th> <td>  -78.60</td>\n",
       "</tr>\n",
       "<tr>\n",
       "  <th>Df Residuals:</th>          <td>    99</td>      <th>  BIC:               </th> <td>  -75.99</td>\n",
       "</tr>\n",
       "<tr>\n",
       "  <th>Df Model:</th>              <td>     1</td>      <th>                     </th>     <td> </td>   \n",
       "</tr>\n",
       "<tr>\n",
       "  <th>Covariance Type:</th>      <td>nonrobust</td>    <th>                     </th>     <td> </td>   \n",
       "</tr>\n",
       "</table>\n",
       "<table class=\"simpletable\">\n",
       "<tr>\n",
       "        <td></td>          <th>coef</th>     <th>std err</th>      <th>t</th>      <th>P>|t|</th> <th>[95.0% Conf. Int.]</th> \n",
       "</tr>\n",
       "<tr>\n",
       "  <th>ratio_number</th> <td>    0.0119</td> <td>    0.000</td> <td>   45.258</td> <td> 0.000</td> <td>    0.011     0.012</td>\n",
       "</tr>\n",
       "</table>\n",
       "<table class=\"simpletable\">\n",
       "<tr>\n",
       "  <th>Omnibus:</th>       <td> 3.642</td> <th>  Durbin-Watson:     </th> <td>   0.574</td>\n",
       "</tr>\n",
       "<tr>\n",
       "  <th>Prob(Omnibus):</th> <td> 0.162</td> <th>  Jarque-Bera (JB):  </th> <td>   3.029</td>\n",
       "</tr>\n",
       "<tr>\n",
       "  <th>Skew:</th>          <td> 0.404</td> <th>  Prob(JB):          </th> <td>   0.220</td>\n",
       "</tr>\n",
       "<tr>\n",
       "  <th>Kurtosis:</th>      <td> 3.273</td> <th>  Cond. No.          </th> <td>    1.00</td>\n",
       "</tr>\n",
       "</table>"
      ],
      "text/plain": [
       "<class 'statsmodels.iolib.summary.Summary'>\n",
       "\"\"\"\n",
       "                            OLS Regression Results                            \n",
       "==============================================================================\n",
       "Dep. Variable:                    PPV   R-squared:                       0.954\n",
       "Model:                            OLS   Adj. R-squared:                  0.953\n",
       "Method:                 Least Squares   F-statistic:                     2048.\n",
       "Date:                Wed, 20 Dec 2017   Prob (F-statistic):           5.86e-68\n",
       "Time:                        05:40:30   Log-Likelihood:                 40.299\n",
       "No. Observations:                 100   AIC:                            -78.60\n",
       "Df Residuals:                      99   BIC:                            -75.99\n",
       "Df Model:                           1                                         \n",
       "Covariance Type:            nonrobust                                         \n",
       "================================================================================\n",
       "                   coef    std err          t      P>|t|      [95.0% Conf. Int.]\n",
       "--------------------------------------------------------------------------------\n",
       "ratio_number     0.0119      0.000     45.258      0.000         0.011     0.012\n",
       "==============================================================================\n",
       "Omnibus:                        3.642   Durbin-Watson:                   0.574\n",
       "Prob(Omnibus):                  0.162   Jarque-Bera (JB):                3.029\n",
       "Skew:                           0.404   Prob(JB):                        0.220\n",
       "Kurtosis:                       3.273   Cond. No.                         1.00\n",
       "==============================================================================\n",
       "\n",
       "Warnings:\n",
       "[1] Standard Errors assume that the covariance matrix of the errors is correctly specified.\n",
       "\"\"\""
      ]
     },
     "execution_count": 5,
     "metadata": {},
     "output_type": "execute_result"
    }
   ],
   "source": [
    "sm.OLS(df['PPV'], df['ratio_number']).fit().summary()"
   ]
  },
  {
   "cell_type": "markdown",
   "metadata": {},
   "source": [
    "A linear regression confirms the effect of the balance on the PPV (b = 0.012, t(99) = 45.26, $p < 10^{-4}$, $R^2=0.954$) and on the accuracy (b = 0.011, t(99) = 21.19, $p < 10^{-4}$, $R^2=0.819$)."
   ]
  },
  {
   "cell_type": "code",
   "execution_count": 24,
   "metadata": {
    "collapsed": false
   },
   "outputs": [
    {
     "data": {
      "text/html": [
       "<table class=\"simpletable\">\n",
       "<caption>OLS Regression Results</caption>\n",
       "<tr>\n",
       "  <th>Dep. Variable:</th>        <td>Accuracy</td>     <th>  R-squared:         </th> <td>   0.819</td>\n",
       "</tr>\n",
       "<tr>\n",
       "  <th>Model:</th>                   <td>OLS</td>       <th>  Adj. R-squared:    </th> <td>   0.818</td>\n",
       "</tr>\n",
       "<tr>\n",
       "  <th>Method:</th>             <td>Least Squares</td>  <th>  F-statistic:       </th> <td>   449.0</td>\n",
       "</tr>\n",
       "<tr>\n",
       "  <th>Date:</th>             <td>Wed, 20 Dec 2017</td> <th>  Prob (F-statistic):</th> <td>1.44e-38</td>\n",
       "</tr>\n",
       "<tr>\n",
       "  <th>Time:</th>                 <td>04:23:22</td>     <th>  Log-Likelihood:    </th> <td> -29.399</td>\n",
       "</tr>\n",
       "<tr>\n",
       "  <th>No. Observations:</th>      <td>   100</td>      <th>  AIC:               </th> <td>   60.80</td>\n",
       "</tr>\n",
       "<tr>\n",
       "  <th>Df Residuals:</th>          <td>    99</td>      <th>  BIC:               </th> <td>   63.40</td>\n",
       "</tr>\n",
       "<tr>\n",
       "  <th>Df Model:</th>              <td>     1</td>      <th>                     </th>     <td> </td>   \n",
       "</tr>\n",
       "<tr>\n",
       "  <th>Covariance Type:</th>      <td>nonrobust</td>    <th>                     </th>     <td> </td>   \n",
       "</tr>\n",
       "</table>\n",
       "<table class=\"simpletable\">\n",
       "<tr>\n",
       "        <td></td>          <th>coef</th>     <th>std err</th>      <th>t</th>      <th>P>|t|</th> <th>[95.0% Conf. Int.]</th> \n",
       "</tr>\n",
       "<tr>\n",
       "  <th>ratio_number</th> <td>    0.0111</td> <td>    0.001</td> <td>   21.190</td> <td> 0.000</td> <td>    0.010     0.012</td>\n",
       "</tr>\n",
       "</table>\n",
       "<table class=\"simpletable\">\n",
       "<tr>\n",
       "  <th>Omnibus:</th>       <td>11.238</td> <th>  Durbin-Watson:     </th> <td>   0.202</td>\n",
       "</tr>\n",
       "<tr>\n",
       "  <th>Prob(Omnibus):</th> <td> 0.004</td> <th>  Jarque-Bera (JB):  </th> <td>   3.762</td>\n",
       "</tr>\n",
       "<tr>\n",
       "  <th>Skew:</th>          <td>-0.020</td> <th>  Prob(JB):          </th> <td>   0.152</td>\n",
       "</tr>\n",
       "<tr>\n",
       "  <th>Kurtosis:</th>      <td> 2.051</td> <th>  Cond. No.          </th> <td>    1.00</td>\n",
       "</tr>\n",
       "</table>"
      ],
      "text/plain": [
       "<class 'statsmodels.iolib.summary.Summary'>\n",
       "\"\"\"\n",
       "                            OLS Regression Results                            \n",
       "==============================================================================\n",
       "Dep. Variable:               Accuracy   R-squared:                       0.819\n",
       "Model:                            OLS   Adj. R-squared:                  0.818\n",
       "Method:                 Least Squares   F-statistic:                     449.0\n",
       "Date:                Wed, 20 Dec 2017   Prob (F-statistic):           1.44e-38\n",
       "Time:                        04:23:22   Log-Likelihood:                -29.399\n",
       "No. Observations:                 100   AIC:                             60.80\n",
       "Df Residuals:                      99   BIC:                             63.40\n",
       "Df Model:                           1                                         \n",
       "Covariance Type:            nonrobust                                         \n",
       "================================================================================\n",
       "                   coef    std err          t      P>|t|      [95.0% Conf. Int.]\n",
       "--------------------------------------------------------------------------------\n",
       "ratio_number     0.0111      0.001     21.190      0.000         0.010     0.012\n",
       "==============================================================================\n",
       "Omnibus:                       11.238   Durbin-Watson:                   0.202\n",
       "Prob(Omnibus):                  0.004   Jarque-Bera (JB):                3.762\n",
       "Skew:                          -0.020   Prob(JB):                        0.152\n",
       "Kurtosis:                       2.051   Cond. No.                         1.00\n",
       "==============================================================================\n",
       "\n",
       "Warnings:\n",
       "[1] Standard Errors assume that the covariance matrix of the errors is correctly specified.\n",
       "\"\"\""
      ]
     },
     "execution_count": 24,
     "metadata": {},
     "output_type": "execute_result"
    }
   ],
   "source": [
    "sm.OLS(df['Accuracy'], df['ratio_number']).fit().summary()"
   ]
  },
  {
   "cell_type": "code",
   "execution_count": 19,
   "metadata": {
    "collapsed": false
   },
   "outputs": [
    {
     "data": {
      "text/plain": [
       "<function Dataset.get>"
      ]
     },
     "execution_count": 19,
     "metadata": {},
     "output_type": "execute_result"
    }
   ],
   "source": [
    "spector_data.get"
   ]
  },
  {
   "cell_type": "code",
   "execution_count": null,
   "metadata": {
    "collapsed": true
   },
   "outputs": [],
   "source": []
  },
  {
   "cell_type": "code",
   "execution_count": 6,
   "metadata": {
    "collapsed": false
   },
   "outputs": [],
   "source": [
    "df_fit = ols('PPV ~ ratio',data=df).fit()\n"
   ]
  },
  {
   "cell_type": "code",
   "execution_count": 7,
   "metadata": {
    "collapsed": false
   },
   "outputs": [
    {
     "data": {
      "text/html": [
       "<div>\n",
       "<table border=\"1\" class=\"dataframe\">\n",
       "  <thead>\n",
       "    <tr style=\"text-align: right;\">\n",
       "      <th></th>\n",
       "      <th>df</th>\n",
       "      <th>sum_sq</th>\n",
       "      <th>mean_sq</th>\n",
       "      <th>F</th>\n",
       "      <th>PR(&gt;F)</th>\n",
       "    </tr>\n",
       "  </thead>\n",
       "  <tbody>\n",
       "    <tr>\n",
       "      <th>ratio</th>\n",
       "      <td>9.0</td>\n",
       "      <td>5.955021</td>\n",
       "      <td>0.661669</td>\n",
       "      <td>79.376274</td>\n",
       "      <td>6.505076e-39</td>\n",
       "    </tr>\n",
       "    <tr>\n",
       "      <th>Residual</th>\n",
       "      <td>90.0</td>\n",
       "      <td>0.750227</td>\n",
       "      <td>0.008336</td>\n",
       "      <td>NaN</td>\n",
       "      <td>NaN</td>\n",
       "    </tr>\n",
       "  </tbody>\n",
       "</table>\n",
       "</div>"
      ],
      "text/plain": [
       "            df    sum_sq   mean_sq          F        PR(>F)\n",
       "ratio      9.0  5.955021  0.661669  79.376274  6.505076e-39\n",
       "Residual  90.0  0.750227  0.008336        NaN           NaN"
      ]
     },
     "execution_count": 7,
     "metadata": {},
     "output_type": "execute_result"
    }
   ],
   "source": [
    "anova_results = sm.stats.anova_lm(df_fit, typ=1)\n",
    "anova_results"
   ]
  },
  {
   "cell_type": "code",
   "execution_count": 8,
   "metadata": {
    "collapsed": false
   },
   "outputs": [
    {
     "data": {
      "text/plain": [
       "ratio        True\n",
       "Residual    False\n",
       "Name: PR(>F), dtype: bool"
      ]
     },
     "execution_count": 8,
     "metadata": {},
     "output_type": "execute_result"
    }
   ],
   "source": [
    "anova_results['PR(>F)']<0.05"
   ]
  },
  {
   "cell_type": "code",
   "execution_count": 9,
   "metadata": {
    "collapsed": false
   },
   "outputs": [],
   "source": [
    "def compute_tukey(df,target,classes):\n",
    "    n_classes = len(df[classes].unique())\n",
    "    degrees_freedom = len(df) - n_classes\n",
    "    results_tukey = pairwise_tukeyhsd(df[target], df[classes])\n",
    "    v = np.abs(results_tukey.meandiffs/ results_tukey.std_pairs)\n",
    "    confidence = psturng(v, n_classes, degrees_freedom)\n",
    "    results_tukey.plot_simultaneous()\n",
    "    #print(results_tukey.summary(),confidence)\n",
    "    return results_tukey.summary(),confidence"
   ]
  },
  {
   "cell_type": "code",
   "execution_count": 10,
   "metadata": {
    "collapsed": false,
    "scrolled": true
   },
   "outputs": [
    {
     "data": {
      "text/html": [
       "<table class=\"simpletable\">\n",
       "<caption>Multiple Comparison of Means - Tukey HSD,FWER=0.05</caption>\n",
       "<tr>\n",
       "  <th>group1</th> <th>group2</th> <th>meandiff</th>  <th>lower</th>   <th>upper</th>  <th>reject</th>\n",
       "</tr>\n",
       "<tr>\n",
       "    <td>10%</td>   <td>100%</td>   <td>0.8157</td>  <td>0.6833</td>  <td>0.9482</td>   <td>True</td> \n",
       "</tr>\n",
       "<tr>\n",
       "    <td>10%</td>    <td>20%</td>   <td>0.2637</td>  <td>0.1312</td>  <td>0.3962</td>   <td>True</td> \n",
       "</tr>\n",
       "<tr>\n",
       "    <td>10%</td>    <td>30%</td>   <td>0.3706</td>  <td>0.2381</td>  <td>0.5031</td>   <td>True</td> \n",
       "</tr>\n",
       "<tr>\n",
       "    <td>10%</td>    <td>40%</td>   <td>0.4417</td>  <td>0.3092</td>  <td>0.5742</td>   <td>True</td> \n",
       "</tr>\n",
       "<tr>\n",
       "    <td>10%</td>    <td>50%</td>    <td>0.531</td>  <td>0.3985</td>  <td>0.6635</td>   <td>True</td> \n",
       "</tr>\n",
       "<tr>\n",
       "    <td>10%</td>    <td>60%</td>   <td>0.6257</td>  <td>0.4933</td>  <td>0.7582</td>   <td>True</td> \n",
       "</tr>\n",
       "<tr>\n",
       "    <td>10%</td>    <td>70%</td>   <td>0.6889</td>  <td>0.5564</td>  <td>0.8214</td>   <td>True</td> \n",
       "</tr>\n",
       "<tr>\n",
       "    <td>10%</td>    <td>80%</td>   <td>0.7183</td>  <td>0.5858</td>  <td>0.8507</td>   <td>True</td> \n",
       "</tr>\n",
       "<tr>\n",
       "    <td>10%</td>    <td>90%</td>   <td>0.7739</td>  <td>0.6414</td>  <td>0.9063</td>   <td>True</td> \n",
       "</tr>\n",
       "<tr>\n",
       "   <td>100%</td>    <td>20%</td>   <td>-0.552</td>  <td>-0.6845</td> <td>-0.4196</td>  <td>True</td> \n",
       "</tr>\n",
       "<tr>\n",
       "   <td>100%</td>    <td>30%</td>   <td>-0.4451</td> <td>-0.5776</td> <td>-0.3126</td>  <td>True</td> \n",
       "</tr>\n",
       "<tr>\n",
       "   <td>100%</td>    <td>40%</td>   <td>-0.374</td>  <td>-0.5065</td> <td>-0.2416</td>  <td>True</td> \n",
       "</tr>\n",
       "<tr>\n",
       "   <td>100%</td>    <td>50%</td>   <td>-0.2847</td> <td>-0.4172</td> <td>-0.1523</td>  <td>True</td> \n",
       "</tr>\n",
       "<tr>\n",
       "   <td>100%</td>    <td>60%</td>    <td>-0.19</td>  <td>-0.3225</td> <td>-0.0575</td>  <td>True</td> \n",
       "</tr>\n",
       "<tr>\n",
       "   <td>100%</td>    <td>70%</td>   <td>-0.1268</td> <td>-0.2593</td> <td>0.0056</td>   <td>False</td>\n",
       "</tr>\n",
       "<tr>\n",
       "   <td>100%</td>    <td>80%</td>   <td>-0.0974</td> <td>-0.2299</td>  <td>0.035</td>   <td>False</td>\n",
       "</tr>\n",
       "<tr>\n",
       "   <td>100%</td>    <td>90%</td>   <td>-0.0418</td> <td>-0.1743</td> <td>0.0906</td>   <td>False</td>\n",
       "</tr>\n",
       "<tr>\n",
       "    <td>20%</td>    <td>30%</td>   <td>0.1069</td>  <td>-0.0255</td> <td>0.2394</td>   <td>False</td>\n",
       "</tr>\n",
       "<tr>\n",
       "    <td>20%</td>    <td>40%</td>    <td>0.178</td>  <td>0.0455</td>  <td>0.3105</td>   <td>True</td> \n",
       "</tr>\n",
       "<tr>\n",
       "    <td>20%</td>    <td>50%</td>   <td>0.2673</td>  <td>0.1348</td>  <td>0.3998</td>   <td>True</td> \n",
       "</tr>\n",
       "<tr>\n",
       "    <td>20%</td>    <td>60%</td>    <td>0.362</td>  <td>0.2296</td>  <td>0.4945</td>   <td>True</td> \n",
       "</tr>\n",
       "<tr>\n",
       "    <td>20%</td>    <td>70%</td>   <td>0.4252</td>  <td>0.2927</td>  <td>0.5577</td>   <td>True</td> \n",
       "</tr>\n",
       "<tr>\n",
       "    <td>20%</td>    <td>80%</td>   <td>0.4546</td>  <td>0.3221</td>  <td>0.5871</td>   <td>True</td> \n",
       "</tr>\n",
       "<tr>\n",
       "    <td>20%</td>    <td>90%</td>   <td>0.5102</td>  <td>0.3777</td>  <td>0.6427</td>   <td>True</td> \n",
       "</tr>\n",
       "<tr>\n",
       "    <td>30%</td>    <td>40%</td>   <td>0.0711</td>  <td>-0.0614</td> <td>0.2035</td>   <td>False</td>\n",
       "</tr>\n",
       "<tr>\n",
       "    <td>30%</td>    <td>50%</td>   <td>0.1604</td>  <td>0.0279</td>  <td>0.2929</td>   <td>True</td> \n",
       "</tr>\n",
       "<tr>\n",
       "    <td>30%</td>    <td>60%</td>   <td>0.2551</td>  <td>0.1227</td>  <td>0.3876</td>   <td>True</td> \n",
       "</tr>\n",
       "<tr>\n",
       "    <td>30%</td>    <td>70%</td>   <td>0.3183</td>  <td>0.1858</td>  <td>0.4508</td>   <td>True</td> \n",
       "</tr>\n",
       "<tr>\n",
       "    <td>30%</td>    <td>80%</td>   <td>0.3477</td>  <td>0.2152</td>  <td>0.4801</td>   <td>True</td> \n",
       "</tr>\n",
       "<tr>\n",
       "    <td>30%</td>    <td>90%</td>   <td>0.4033</td>  <td>0.2708</td>  <td>0.5357</td>   <td>True</td> \n",
       "</tr>\n",
       "<tr>\n",
       "    <td>40%</td>    <td>50%</td>   <td>0.0893</td>  <td>-0.0432</td> <td>0.2218</td>   <td>False</td>\n",
       "</tr>\n",
       "<tr>\n",
       "    <td>40%</td>    <td>60%</td>    <td>0.184</td>  <td>0.0516</td>  <td>0.3165</td>   <td>True</td> \n",
       "</tr>\n",
       "<tr>\n",
       "    <td>40%</td>    <td>70%</td>   <td>0.2472</td>  <td>0.1147</td>  <td>0.3797</td>   <td>True</td> \n",
       "</tr>\n",
       "<tr>\n",
       "    <td>40%</td>    <td>80%</td>   <td>0.2766</td>  <td>0.1441</td>  <td>0.4091</td>   <td>True</td> \n",
       "</tr>\n",
       "<tr>\n",
       "    <td>40%</td>    <td>90%</td>   <td>0.3322</td>  <td>0.1997</td>  <td>0.4647</td>   <td>True</td> \n",
       "</tr>\n",
       "<tr>\n",
       "    <td>50%</td>    <td>60%</td>   <td>0.0947</td>  <td>-0.0377</td> <td>0.2272</td>   <td>False</td>\n",
       "</tr>\n",
       "<tr>\n",
       "    <td>50%</td>    <td>70%</td>   <td>0.1579</td>  <td>0.0254</td>  <td>0.2904</td>   <td>True</td> \n",
       "</tr>\n",
       "<tr>\n",
       "    <td>50%</td>    <td>80%</td>   <td>0.1873</td>  <td>0.0548</td>  <td>0.3197</td>   <td>True</td> \n",
       "</tr>\n",
       "<tr>\n",
       "    <td>50%</td>    <td>90%</td>   <td>0.2429</td>  <td>0.1104</td>  <td>0.3753</td>   <td>True</td> \n",
       "</tr>\n",
       "<tr>\n",
       "    <td>60%</td>    <td>70%</td>   <td>0.0632</td>  <td>-0.0693</td> <td>0.1956</td>   <td>False</td>\n",
       "</tr>\n",
       "<tr>\n",
       "    <td>60%</td>    <td>80%</td>   <td>0.0926</td>  <td>-0.0399</td>  <td>0.225</td>   <td>False</td>\n",
       "</tr>\n",
       "<tr>\n",
       "    <td>60%</td>    <td>90%</td>   <td>0.1482</td>  <td>0.0157</td>  <td>0.2806</td>   <td>True</td> \n",
       "</tr>\n",
       "<tr>\n",
       "    <td>70%</td>    <td>80%</td>   <td>0.0294</td>  <td>-0.1031</td> <td>0.1619</td>   <td>False</td>\n",
       "</tr>\n",
       "<tr>\n",
       "    <td>70%</td>    <td>90%</td>    <td>0.085</td>  <td>-0.0475</td> <td>0.2175</td>   <td>False</td>\n",
       "</tr>\n",
       "<tr>\n",
       "    <td>80%</td>    <td>90%</td>   <td>0.0556</td>  <td>-0.0769</td> <td>0.1881</td>   <td>False</td>\n",
       "</tr>\n",
       "</table>"
      ],
      "text/plain": [
       "<class 'statsmodels.iolib.table.SimpleTable'>"
      ]
     },
     "execution_count": 10,
     "metadata": {},
     "output_type": "execute_result"
    }
   ],
   "source": [
    "(result,confidence) = compute_tukey(df,'PPV','ratio')\n",
    "result"
   ]
  },
  {
   "cell_type": "code",
   "execution_count": 10,
   "metadata": {
    "collapsed": false
   },
   "outputs": [
    {
     "name": "stdout",
     "output_type": "stream",
     "text": [
      "[ 0.001       0.001       0.001       0.001       0.001       0.001       0.001\n",
      "  0.001       0.001       0.001       0.001       0.001       0.001       0.001\n",
      "  0.07263383  0.34702206  0.9         0.22462211  0.00136707  0.001       0.001\n",
      "  0.001       0.001       0.001       0.74247016  0.00617284  0.001       0.001\n",
      "  0.001       0.001       0.47485648  0.001       0.001       0.001       0.001\n",
      "  0.38914091  0.00756734  0.001       0.001       0.85820657  0.42365673\n",
      "  0.01624153  0.9         0.5391102   0.9       ]\n"
     ]
    }
   ],
   "source": [
    "print(confidence)"
   ]
  },
  {
   "cell_type": "code",
   "execution_count": 17,
   "metadata": {
    "collapsed": false
   },
   "outputs": [
    {
     "data": {
      "text/html": [
       "<table class=\"simpletable\">\n",
       "<caption>Multiple Comparison of Means - Tukey HSD,FWER=0.05</caption>\n",
       "<tr>\n",
       "  <th>group1</th> <th>group2</th> <th>meandiff</th>  <th>lower</th>   <th>upper</th>  <th>reject</th>\n",
       "</tr>\n",
       "<tr>\n",
       "    <td>10%</td>   <td>100%</td>   <td>0.8157</td>  <td>0.6833</td>  <td>0.9482</td>   <td>True</td> \n",
       "</tr>\n",
       "<tr>\n",
       "    <td>10%</td>    <td>20%</td>   <td>0.2637</td>  <td>0.1312</td>  <td>0.3962</td>   <td>True</td> \n",
       "</tr>\n",
       "<tr>\n",
       "    <td>10%</td>    <td>30%</td>   <td>0.3706</td>  <td>0.2381</td>  <td>0.5031</td>   <td>True</td> \n",
       "</tr>\n",
       "<tr>\n",
       "    <td>10%</td>    <td>40%</td>   <td>0.4417</td>  <td>0.3092</td>  <td>0.5742</td>   <td>True</td> \n",
       "</tr>\n",
       "<tr>\n",
       "    <td>10%</td>    <td>50%</td>    <td>0.531</td>  <td>0.3985</td>  <td>0.6635</td>   <td>True</td> \n",
       "</tr>\n",
       "<tr>\n",
       "    <td>10%</td>    <td>60%</td>   <td>0.6257</td>  <td>0.4933</td>  <td>0.7582</td>   <td>True</td> \n",
       "</tr>\n",
       "<tr>\n",
       "    <td>10%</td>    <td>70%</td>   <td>0.6889</td>  <td>0.5564</td>  <td>0.8214</td>   <td>True</td> \n",
       "</tr>\n",
       "<tr>\n",
       "    <td>10%</td>    <td>80%</td>   <td>0.7183</td>  <td>0.5858</td>  <td>0.8507</td>   <td>True</td> \n",
       "</tr>\n",
       "<tr>\n",
       "    <td>10%</td>    <td>90%</td>   <td>0.7739</td>  <td>0.6414</td>  <td>0.9063</td>   <td>True</td> \n",
       "</tr>\n",
       "<tr>\n",
       "   <td>100%</td>    <td>20%</td>   <td>-0.552</td>  <td>-0.6845</td> <td>-0.4196</td>  <td>True</td> \n",
       "</tr>\n",
       "<tr>\n",
       "   <td>100%</td>    <td>30%</td>   <td>-0.4451</td> <td>-0.5776</td> <td>-0.3126</td>  <td>True</td> \n",
       "</tr>\n",
       "<tr>\n",
       "   <td>100%</td>    <td>40%</td>   <td>-0.374</td>  <td>-0.5065</td> <td>-0.2416</td>  <td>True</td> \n",
       "</tr>\n",
       "<tr>\n",
       "   <td>100%</td>    <td>50%</td>   <td>-0.2847</td> <td>-0.4172</td> <td>-0.1523</td>  <td>True</td> \n",
       "</tr>\n",
       "<tr>\n",
       "   <td>100%</td>    <td>60%</td>    <td>-0.19</td>  <td>-0.3225</td> <td>-0.0575</td>  <td>True</td> \n",
       "</tr>\n",
       "<tr>\n",
       "   <td>100%</td>    <td>70%</td>   <td>-0.1268</td> <td>-0.2593</td> <td>0.0056</td>   <td>False</td>\n",
       "</tr>\n",
       "<tr>\n",
       "   <td>100%</td>    <td>80%</td>   <td>-0.0974</td> <td>-0.2299</td>  <td>0.035</td>   <td>False</td>\n",
       "</tr>\n",
       "<tr>\n",
       "   <td>100%</td>    <td>90%</td>   <td>-0.0418</td> <td>-0.1743</td> <td>0.0906</td>   <td>False</td>\n",
       "</tr>\n",
       "<tr>\n",
       "    <td>20%</td>    <td>30%</td>   <td>0.1069</td>  <td>-0.0255</td> <td>0.2394</td>   <td>False</td>\n",
       "</tr>\n",
       "<tr>\n",
       "    <td>20%</td>    <td>40%</td>    <td>0.178</td>  <td>0.0455</td>  <td>0.3105</td>   <td>True</td> \n",
       "</tr>\n",
       "<tr>\n",
       "    <td>20%</td>    <td>50%</td>   <td>0.2673</td>  <td>0.1348</td>  <td>0.3998</td>   <td>True</td> \n",
       "</tr>\n",
       "<tr>\n",
       "    <td>20%</td>    <td>60%</td>    <td>0.362</td>  <td>0.2296</td>  <td>0.4945</td>   <td>True</td> \n",
       "</tr>\n",
       "<tr>\n",
       "    <td>20%</td>    <td>70%</td>   <td>0.4252</td>  <td>0.2927</td>  <td>0.5577</td>   <td>True</td> \n",
       "</tr>\n",
       "<tr>\n",
       "    <td>20%</td>    <td>80%</td>   <td>0.4546</td>  <td>0.3221</td>  <td>0.5871</td>   <td>True</td> \n",
       "</tr>\n",
       "<tr>\n",
       "    <td>20%</td>    <td>90%</td>   <td>0.5102</td>  <td>0.3777</td>  <td>0.6427</td>   <td>True</td> \n",
       "</tr>\n",
       "<tr>\n",
       "    <td>30%</td>    <td>40%</td>   <td>0.0711</td>  <td>-0.0614</td> <td>0.2035</td>   <td>False</td>\n",
       "</tr>\n",
       "<tr>\n",
       "    <td>30%</td>    <td>50%</td>   <td>0.1604</td>  <td>0.0279</td>  <td>0.2929</td>   <td>True</td> \n",
       "</tr>\n",
       "<tr>\n",
       "    <td>30%</td>    <td>60%</td>   <td>0.2551</td>  <td>0.1227</td>  <td>0.3876</td>   <td>True</td> \n",
       "</tr>\n",
       "<tr>\n",
       "    <td>30%</td>    <td>70%</td>   <td>0.3183</td>  <td>0.1858</td>  <td>0.4508</td>   <td>True</td> \n",
       "</tr>\n",
       "<tr>\n",
       "    <td>30%</td>    <td>80%</td>   <td>0.3477</td>  <td>0.2152</td>  <td>0.4801</td>   <td>True</td> \n",
       "</tr>\n",
       "<tr>\n",
       "    <td>30%</td>    <td>90%</td>   <td>0.4033</td>  <td>0.2708</td>  <td>0.5357</td>   <td>True</td> \n",
       "</tr>\n",
       "<tr>\n",
       "    <td>40%</td>    <td>50%</td>   <td>0.0893</td>  <td>-0.0432</td> <td>0.2218</td>   <td>False</td>\n",
       "</tr>\n",
       "<tr>\n",
       "    <td>40%</td>    <td>60%</td>    <td>0.184</td>  <td>0.0516</td>  <td>0.3165</td>   <td>True</td> \n",
       "</tr>\n",
       "<tr>\n",
       "    <td>40%</td>    <td>70%</td>   <td>0.2472</td>  <td>0.1147</td>  <td>0.3797</td>   <td>True</td> \n",
       "</tr>\n",
       "<tr>\n",
       "    <td>40%</td>    <td>80%</td>   <td>0.2766</td>  <td>0.1441</td>  <td>0.4091</td>   <td>True</td> \n",
       "</tr>\n",
       "<tr>\n",
       "    <td>40%</td>    <td>90%</td>   <td>0.3322</td>  <td>0.1997</td>  <td>0.4647</td>   <td>True</td> \n",
       "</tr>\n",
       "<tr>\n",
       "    <td>50%</td>    <td>60%</td>   <td>0.0947</td>  <td>-0.0377</td> <td>0.2272</td>   <td>False</td>\n",
       "</tr>\n",
       "<tr>\n",
       "    <td>50%</td>    <td>70%</td>   <td>0.1579</td>  <td>0.0254</td>  <td>0.2904</td>   <td>True</td> \n",
       "</tr>\n",
       "<tr>\n",
       "    <td>50%</td>    <td>80%</td>   <td>0.1873</td>  <td>0.0548</td>  <td>0.3197</td>   <td>True</td> \n",
       "</tr>\n",
       "<tr>\n",
       "    <td>50%</td>    <td>90%</td>   <td>0.2429</td>  <td>0.1104</td>  <td>0.3753</td>   <td>True</td> \n",
       "</tr>\n",
       "<tr>\n",
       "    <td>60%</td>    <td>70%</td>   <td>0.0632</td>  <td>-0.0693</td> <td>0.1956</td>   <td>False</td>\n",
       "</tr>\n",
       "<tr>\n",
       "    <td>60%</td>    <td>80%</td>   <td>0.0926</td>  <td>-0.0399</td>  <td>0.225</td>   <td>False</td>\n",
       "</tr>\n",
       "<tr>\n",
       "    <td>60%</td>    <td>90%</td>   <td>0.1482</td>  <td>0.0157</td>  <td>0.2806</td>   <td>True</td> \n",
       "</tr>\n",
       "<tr>\n",
       "    <td>70%</td>    <td>80%</td>   <td>0.0294</td>  <td>-0.1031</td> <td>0.1619</td>   <td>False</td>\n",
       "</tr>\n",
       "<tr>\n",
       "    <td>70%</td>    <td>90%</td>    <td>0.085</td>  <td>-0.0475</td> <td>0.2175</td>   <td>False</td>\n",
       "</tr>\n",
       "<tr>\n",
       "    <td>80%</td>    <td>90%</td>   <td>0.0556</td>  <td>-0.0769</td> <td>0.1881</td>   <td>False</td>\n",
       "</tr>\n",
       "</table>"
      ],
      "text/plain": [
       "<class 'statsmodels.iolib.table.SimpleTable'>"
      ]
     },
     "execution_count": 17,
     "metadata": {},
     "output_type": "execute_result"
    }
   ],
   "source": [
    "result"
   ]
  },
  {
   "cell_type": "code",
   "execution_count": null,
   "metadata": {
    "collapsed": true
   },
   "outputs": [],
   "source": []
  }
 ],
 "metadata": {
  "anaconda-cloud": {},
  "kernelspec": {
   "display_name": "Python 3",
   "language": "python",
   "name": "python3"
  },
  "language_info": {
   "codemirror_mode": {
    "name": "ipython",
    "version": 3
   },
   "file_extension": ".py",
   "mimetype": "text/x-python",
   "name": "python",
   "nbconvert_exporter": "python",
   "pygments_lexer": "ipython3",
   "version": "3.5.1"
  },
  "toc": {
   "colors": {
    "hover_highlight": "#DAA520",
    "running_highlight": "#FF0000",
    "selected_highlight": "#FFD700"
   },
   "moveMenuLeft": true,
   "nav_menu": {
    "height": "12px",
    "width": "252px"
   },
   "navigate_menu": true,
   "number_sections": true,
   "sideBar": true,
   "threshold": 4,
   "toc_cell": false,
   "toc_section_display": "block",
   "toc_window_display": false
  }
 },
 "nbformat": 4,
 "nbformat_minor": 2
}
